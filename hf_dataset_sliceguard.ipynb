{
 "cells": [
  {
   "cell_type": "markdown",
   "id": "be85cec0-7f9d-46b1-bcc4-e4ca7926ecb8",
   "metadata": {},
   "source": [
    "# Find Challenging Cases In Any Huggingface Dataset\n",
    "- https://medium.com/@daniel-klitzke/find-issues-in-huggingface-datasets-and-explore-them-interactively-dd3503c0985f\n",
    "- https://github.com/Renumics/sliceguard/blob/main/examples/hf_dataset_loading.ipynb"
   ]
  },
  {
   "cell_type": "markdown",
   "id": "5e0a9aa3",
   "metadata": {},
   "source": [
    "Sliceguard helps you to quickly discover **problematic data segments**. It supports structured data as well as unstructured data like images, text or audio. Sliceguard generates an **interactive report** with just a few lines of code:\n",
    "\n",
    "```python\n",
    "from sliceguard import SliceGuard\n",
    "\n",
    "sg = SliceGuard()\n",
    "issues = sg.find_issues(df, features=[\"image\"])\n",
    "\n",
    "sg.report()\n",
    "```"
   ]
  },
  {
   "cell_type": "markdown",
   "id": "448426d8-2268-4115-b4a3-b7bd74fbbda0",
   "metadata": {},
   "source": [
    "First, install sliceguard including its embedding and AutoML capabilities."
   ]
  },
  {
   "cell_type": "code",
   "execution_count": null,
   "id": "5900c6f3-eae3-4693-9e77-7e40bd1cc426",
   "metadata": {},
   "outputs": [
    {
     "name": "stdout",
     "output_type": "stream",
     "text": [
      "Collecting cleanlab\n",
      "  Downloading cleanlab-2.7.0-py3-none-any.whl.metadata (60 kB)\n",
      "Requirement already satisfied: numpy~=1.22 in ./.conda/lib/python3.11/site-packages (from cleanlab) (1.26.4)\n",
      "Requirement already satisfied: scikit-learn>=1.1 in ./.conda/lib/python3.11/site-packages (from cleanlab) (1.5.1)\n",
      "Requirement already satisfied: tqdm>=4.53.0 in ./.conda/lib/python3.11/site-packages (from cleanlab) (4.66.5)\n",
      "Requirement already satisfied: pandas>=1.4.0 in ./.conda/lib/python3.11/site-packages (from cleanlab) (2.2.2)\n",
      "Collecting termcolor>=2.4.0 (from cleanlab)\n",
      "  Downloading termcolor-2.5.0-py3-none-any.whl.metadata (6.1 kB)\n",
      "Requirement already satisfied: python-dateutil>=2.8.2 in ./.conda/lib/python3.11/site-packages (from pandas>=1.4.0->cleanlab) (2.9.0.post0)\n",
      "Requirement already satisfied: pytz>=2020.1 in ./.conda/lib/python3.11/site-packages (from pandas>=1.4.0->cleanlab) (2024.1)\n",
      "Requirement already satisfied: tzdata>=2022.7 in ./.conda/lib/python3.11/site-packages (from pandas>=1.4.0->cleanlab) (2024.1)\n",
      "Requirement already satisfied: scipy>=1.6.0 in ./.conda/lib/python3.11/site-packages (from scikit-learn>=1.1->cleanlab) (1.14.0)\n",
      "Requirement already satisfied: joblib>=1.2.0 in ./.conda/lib/python3.11/site-packages (from scikit-learn>=1.1->cleanlab) (1.4.2)\n",
      "Requirement already satisfied: threadpoolctl>=3.1.0 in ./.conda/lib/python3.11/site-packages (from scikit-learn>=1.1->cleanlab) (3.5.0)\n",
      "Requirement already satisfied: six>=1.5 in ./.conda/lib/python3.11/site-packages (from python-dateutil>=2.8.2->pandas>=1.4.0->cleanlab) (1.16.0)\n",
      "Downloading cleanlab-2.7.0-py3-none-any.whl (347 kB)\n",
      "Downloading termcolor-2.5.0-py3-none-any.whl (7.8 kB)\n",
      "Installing collected packages: termcolor, cleanlab\n",
      "Successfully installed cleanlab-2.7.0 termcolor-2.5.0\n",
      "Note: you may need to restart the kernel to use updated packages.\n"
     ]
    }
   ],
   "source": [
    "%pip install --no-cache-dir sliceguard[all] cleanlab"
   ]
  },
  {
   "cell_type": "markdown",
   "id": "adf7c23e-088a-4351-9436-8c5522cb9c53",
   "metadata": {},
   "source": [
    "Import sliceguard and a metric function that is meaningful for the task of audio classification."
   ]
  },
  {
   "cell_type": "code",
   "execution_count": 3,
   "id": "c367734a-9c3f-4bc0-97c1-59f074aae77f",
   "metadata": {},
   "outputs": [],
   "source": [
    "from sliceguard import SliceGuard\n",
    "from sliceguard.data import from_huggingface\n",
    "from sklearn.metrics import accuracy_score"
   ]
  },
  {
   "cell_type": "markdown",
   "id": "b0c00050-9ce9-4a0c-9d57-799978b0e2bc",
   "metadata": {},
   "source": [
    "Load an audio classification dataset"
   ]
  },
  {
   "cell_type": "code",
   "execution_count": 4,
   "id": "f429e2b9-20c3-4bb4-a198-93998b2f9a68",
   "metadata": {},
   "outputs": [
    {
     "data": {
      "application/vnd.jupyter.widget-view+json": {
       "model_id": "e76a183d41624291853f29ad81c78826",
       "version_major": 2,
       "version_minor": 0
      },
      "text/plain": [
       "Downloading readme:   0%|          | 0.00/1.13k [00:00<?, ?B/s]"
      ]
     },
     "metadata": {},
     "output_type": "display_data"
    },
    {
     "data": {
      "application/vnd.jupyter.widget-view+json": {
       "model_id": "5ea5d87a66b54ca2a23c7bfef7635f11",
       "version_major": 2,
       "version_minor": 0
      },
      "text/plain": [
       "Downloading data:   0%|          | 0.00/46.9M [00:00<?, ?B/s]"
      ]
     },
     "metadata": {},
     "output_type": "display_data"
    },
    {
     "data": {
      "application/vnd.jupyter.widget-view+json": {
       "model_id": "23dded0356374b95839e34662cf81481",
       "version_major": 2,
       "version_minor": 0
      },
      "text/plain": [
       "Generating train split:   0%|          | 0/535 [00:00<?, ? examples/s]"
      ]
     },
     "metadata": {},
     "output_type": "display_data"
    }
   ],
   "source": [
    "df = from_huggingface(\"renumics/emodb\")"
   ]
  },
  {
   "cell_type": "code",
   "execution_count": 5,
   "id": "137ef177-f469-4179-80be-143c9245d87d",
   "metadata": {},
   "outputs": [
    {
     "data": {
      "text/html": [
       "<div>\n",
       "<style scoped>\n",
       "    .dataframe tbody tr th:only-of-type {\n",
       "        vertical-align: middle;\n",
       "    }\n",
       "\n",
       "    .dataframe tbody tr th {\n",
       "        vertical-align: top;\n",
       "    }\n",
       "\n",
       "    .dataframe thead th {\n",
       "        text-align: right;\n",
       "    }\n",
       "</style>\n",
       "<table border=\"1\" class=\"dataframe\">\n",
       "  <thead>\n",
       "    <tr style=\"text-align: right;\">\n",
       "      <th></th>\n",
       "      <th>age</th>\n",
       "      <th>gender</th>\n",
       "      <th>emotion</th>\n",
       "      <th>audio</th>\n",
       "      <th>split</th>\n",
       "    </tr>\n",
       "  </thead>\n",
       "  <tbody>\n",
       "    <tr>\n",
       "      <th>0</th>\n",
       "      <td>31.0</td>\n",
       "      <td>male</td>\n",
       "      <td>happiness</td>\n",
       "      <td>./sliceguard_tmp/15632b224c0349a18b50ca3d0d897...</td>\n",
       "      <td>train</td>\n",
       "    </tr>\n",
       "    <tr>\n",
       "      <th>1</th>\n",
       "      <td>31.0</td>\n",
       "      <td>male</td>\n",
       "      <td>neutral</td>\n",
       "      <td>./sliceguard_tmp/6f896216f1dc480b8cf43b284995c...</td>\n",
       "      <td>train</td>\n",
       "    </tr>\n",
       "    <tr>\n",
       "      <th>2</th>\n",
       "      <td>31.0</td>\n",
       "      <td>male</td>\n",
       "      <td>anger</td>\n",
       "      <td>./sliceguard_tmp/2c174149ce664493a461bc34ac3c8...</td>\n",
       "      <td>train</td>\n",
       "    </tr>\n",
       "    <tr>\n",
       "      <th>3</th>\n",
       "      <td>31.0</td>\n",
       "      <td>male</td>\n",
       "      <td>happiness</td>\n",
       "      <td>./sliceguard_tmp/bdafbe22e6b54697acd6b1f359368...</td>\n",
       "      <td>train</td>\n",
       "    </tr>\n",
       "    <tr>\n",
       "      <th>4</th>\n",
       "      <td>31.0</td>\n",
       "      <td>male</td>\n",
       "      <td>neutral</td>\n",
       "      <td>./sliceguard_tmp/85dbaf08ba2d44f99464878814cdd...</td>\n",
       "      <td>train</td>\n",
       "    </tr>\n",
       "    <tr>\n",
       "      <th>...</th>\n",
       "      <td>...</td>\n",
       "      <td>...</td>\n",
       "      <td>...</td>\n",
       "      <td>...</td>\n",
       "      <td>...</td>\n",
       "    </tr>\n",
       "    <tr>\n",
       "      <th>530</th>\n",
       "      <td>31.0</td>\n",
       "      <td>female</td>\n",
       "      <td>boredom</td>\n",
       "      <td>./sliceguard_tmp/6f492e6d5f5c41fda76ef2851976f...</td>\n",
       "      <td>train</td>\n",
       "    </tr>\n",
       "    <tr>\n",
       "      <th>531</th>\n",
       "      <td>31.0</td>\n",
       "      <td>female</td>\n",
       "      <td>sadness</td>\n",
       "      <td>./sliceguard_tmp/e643ec7275774547bfb18a6173391...</td>\n",
       "      <td>train</td>\n",
       "    </tr>\n",
       "    <tr>\n",
       "      <th>532</th>\n",
       "      <td>31.0</td>\n",
       "      <td>female</td>\n",
       "      <td>sadness</td>\n",
       "      <td>./sliceguard_tmp/579ae503af8645c1a2e3a53cfe9f5...</td>\n",
       "      <td>train</td>\n",
       "    </tr>\n",
       "    <tr>\n",
       "      <th>533</th>\n",
       "      <td>31.0</td>\n",
       "      <td>female</td>\n",
       "      <td>anger</td>\n",
       "      <td>./sliceguard_tmp/784bfe68a37447068e0e8a1df1de6...</td>\n",
       "      <td>train</td>\n",
       "    </tr>\n",
       "    <tr>\n",
       "      <th>534</th>\n",
       "      <td>31.0</td>\n",
       "      <td>female</td>\n",
       "      <td>anger</td>\n",
       "      <td>./sliceguard_tmp/a1be2fedc6ff4f13a08f977079cfc...</td>\n",
       "      <td>train</td>\n",
       "    </tr>\n",
       "  </tbody>\n",
       "</table>\n",
       "<p>535 rows × 5 columns</p>\n",
       "</div>"
      ],
      "text/plain": [
       "      age  gender    emotion  \\\n",
       "0    31.0    male  happiness   \n",
       "1    31.0    male    neutral   \n",
       "2    31.0    male      anger   \n",
       "3    31.0    male  happiness   \n",
       "4    31.0    male    neutral   \n",
       "..    ...     ...        ...   \n",
       "530  31.0  female    boredom   \n",
       "531  31.0  female    sadness   \n",
       "532  31.0  female    sadness   \n",
       "533  31.0  female      anger   \n",
       "534  31.0  female      anger   \n",
       "\n",
       "                                                 audio  split  \n",
       "0    ./sliceguard_tmp/15632b224c0349a18b50ca3d0d897...  train  \n",
       "1    ./sliceguard_tmp/6f896216f1dc480b8cf43b284995c...  train  \n",
       "2    ./sliceguard_tmp/2c174149ce664493a461bc34ac3c8...  train  \n",
       "3    ./sliceguard_tmp/bdafbe22e6b54697acd6b1f359368...  train  \n",
       "4    ./sliceguard_tmp/85dbaf08ba2d44f99464878814cdd...  train  \n",
       "..                                                 ...    ...  \n",
       "530  ./sliceguard_tmp/6f492e6d5f5c41fda76ef2851976f...  train  \n",
       "531  ./sliceguard_tmp/e643ec7275774547bfb18a6173391...  train  \n",
       "532  ./sliceguard_tmp/579ae503af8645c1a2e3a53cfe9f5...  train  \n",
       "533  ./sliceguard_tmp/784bfe68a37447068e0e8a1df1de6...  train  \n",
       "534  ./sliceguard_tmp/a1be2fedc6ff4f13a08f977079cfc...  train  \n",
       "\n",
       "[535 rows x 5 columns]"
      ]
     },
     "execution_count": 5,
     "metadata": {},
     "output_type": "execute_result"
    }
   ],
   "source": [
    "df"
   ]
  },
  {
   "cell_type": "markdown",
   "id": "8caa110e-2e0b-474c-a724-78a488384c2a",
   "metadata": {},
   "source": [
    "Detect challenging clusters using sliceguard."
   ]
  },
  {
   "cell_type": "code",
   "execution_count": 6,
   "id": "3c4419fd-79a8-46db-83c3-4b613be22b1c",
   "metadata": {},
   "outputs": [
    {
     "name": "stdout",
     "output_type": "stream",
     "text": [
      "Feature audio was inferred as referring to raw data. If this is not the case, please specify in feature_types!\n",
      "Using default model for computing embeddings for feature audio.\n",
      "Computing audio embeddings.\n"
     ]
    },
    {
     "data": {
      "application/vnd.jupyter.widget-view+json": {
       "model_id": "a8033c508f254a039bddbe3aef999c99",
       "version_major": 2,
       "version_minor": 0
      },
      "text/plain": [
       "preprocessor_config.json:   0%|          | 0.00/297 [00:00<?, ?B/s]"
      ]
     },
     "metadata": {},
     "output_type": "display_data"
    },
    {
     "name": "stdout",
     "output_type": "stream",
     "text": [
      "Embedding computation on cpu with batch size 1 and multiprocessing None.\n"
     ]
    },
    {
     "data": {
      "application/vnd.jupyter.widget-view+json": {
       "model_id": "a6740ebc2b524ee1b7bcd84692f3e573",
       "version_major": 2,
       "version_minor": 0
      },
      "text/plain": [
       "config.json:   0%|          | 0.00/26.8k [00:00<?, ?B/s]"
      ]
     },
     "metadata": {},
     "output_type": "display_data"
    },
    {
     "data": {
      "application/vnd.jupyter.widget-view+json": {
       "model_id": "c5d8edcb027346a891f799c68cc40c3b",
       "version_major": 2,
       "version_minor": 0
      },
      "text/plain": [
       "model.safetensors:   0%|          | 0.00/346M [00:00<?, ?B/s]"
      ]
     },
     "metadata": {},
     "output_type": "display_data"
    },
    {
     "data": {
      "application/vnd.jupyter.widget-view+json": {
       "model_id": "ea5d650678aa4810937a11c43a53d80c",
       "version_major": 2,
       "version_minor": 0
      },
      "text/plain": [
       "Map:   0%|          | 0/535 [00:00<?, ? examples/s]"
      ]
     },
     "metadata": {},
     "output_type": "display_data"
    },
    {
     "name": "stdout",
     "output_type": "stream",
     "text": [
      "Pre-reducing feature audio in mode automl.\n",
      "Using op mix ratio 0.8.\n",
      "Using num dimensions 32.\n",
      "[flaml.automl.logger: 12-03 15:40:02] {1728} INFO - task = classification\n",
      "[flaml.automl.logger: 12-03 15:40:02] {1739} INFO - Evaluation method: cv\n",
      "[flaml.automl.logger: 12-03 15:40:02] {1838} INFO - Minimizing error metric: 1-roc_auc_ovr\n",
      "[flaml.automl.logger: 12-03 15:40:02] {1955} INFO - List of ML learners in AutoML Run: ['xgboost']\n",
      "[flaml.automl.logger: 12-03 15:40:02] {2258} INFO - iteration 0, current learner xgboost\n",
      "[flaml.automl.logger: 12-03 15:40:02] {2393} INFO - Estimated sufficient time budget=2879s. Estimated necessary time budget=3s.\n",
      "[flaml.automl.logger: 12-03 15:40:02] {2442} INFO -  at 0.3s,\testimator xgboost's best error=0.1282,\tbest estimator xgboost's best error=0.1282\n",
      "[flaml.automl.logger: 12-03 15:40:02] {2258} INFO - iteration 1, current learner xgboost\n",
      "[flaml.automl.logger: 12-03 15:40:02] {2442} INFO -  at 0.6s,\testimator xgboost's best error=0.1282,\tbest estimator xgboost's best error=0.1282\n",
      "[flaml.automl.logger: 12-03 15:40:02] {2258} INFO - iteration 2, current learner xgboost\n",
      "[flaml.automl.logger: 12-03 15:40:03] {2442} INFO -  at 0.8s,\testimator xgboost's best error=0.1273,\tbest estimator xgboost's best error=0.1273\n",
      "[flaml.automl.logger: 12-03 15:40:03] {2258} INFO - iteration 3, current learner xgboost\n",
      "[flaml.automl.logger: 12-03 15:40:03] {2442} INFO -  at 1.1s,\testimator xgboost's best error=0.1273,\tbest estimator xgboost's best error=0.1273\n",
      "[flaml.automl.logger: 12-03 15:40:03] {2258} INFO - iteration 4, current learner xgboost\n",
      "[flaml.automl.logger: 12-03 15:40:03] {2442} INFO -  at 1.4s,\testimator xgboost's best error=0.1268,\tbest estimator xgboost's best error=0.1268\n",
      "[flaml.automl.logger: 12-03 15:40:03] {2258} INFO - iteration 5, current learner xgboost\n",
      "[flaml.automl.logger: 12-03 15:40:04] {2442} INFO -  at 1.7s,\testimator xgboost's best error=0.1229,\tbest estimator xgboost's best error=0.1229\n",
      "[flaml.automl.logger: 12-03 15:40:04] {2258} INFO - iteration 6, current learner xgboost\n",
      "[flaml.automl.logger: 12-03 15:40:04] {2442} INFO -  at 2.4s,\testimator xgboost's best error=0.1191,\tbest estimator xgboost's best error=0.1191\n",
      "[flaml.automl.logger: 12-03 15:40:04] {2258} INFO - iteration 7, current learner xgboost\n",
      "[flaml.automl.logger: 12-03 15:40:05] {2442} INFO -  at 2.9s,\testimator xgboost's best error=0.1191,\tbest estimator xgboost's best error=0.1191\n",
      "[flaml.automl.logger: 12-03 15:40:05] {2258} INFO - iteration 8, current learner xgboost\n",
      "[flaml.automl.logger: 12-03 15:40:05] {2442} INFO -  at 3.3s,\testimator xgboost's best error=0.1191,\tbest estimator xgboost's best error=0.1191\n",
      "[flaml.automl.logger: 12-03 15:40:05] {2258} INFO - iteration 9, current learner xgboost\n",
      "[flaml.automl.logger: 12-03 15:40:06] {2442} INFO -  at 4.0s,\testimator xgboost's best error=0.1191,\tbest estimator xgboost's best error=0.1191\n",
      "[flaml.automl.logger: 12-03 15:40:06] {2258} INFO - iteration 10, current learner xgboost\n",
      "[flaml.automl.logger: 12-03 15:40:06] {2442} INFO -  at 4.2s,\testimator xgboost's best error=0.1191,\tbest estimator xgboost's best error=0.1191\n",
      "[flaml.automl.logger: 12-03 15:40:06] {2258} INFO - iteration 11, current learner xgboost\n",
      "[flaml.automl.logger: 12-03 15:40:06] {2442} INFO -  at 4.5s,\testimator xgboost's best error=0.1191,\tbest estimator xgboost's best error=0.1191\n",
      "[flaml.automl.logger: 12-03 15:40:06] {2258} INFO - iteration 12, current learner xgboost\n",
      "[flaml.automl.logger: 12-03 15:40:07] {2442} INFO -  at 5.1s,\testimator xgboost's best error=0.1191,\tbest estimator xgboost's best error=0.1191\n",
      "[flaml.automl.logger: 12-03 15:40:07] {2258} INFO - iteration 13, current learner xgboost\n",
      "[flaml.automl.logger: 12-03 15:40:07] {2442} INFO -  at 5.4s,\testimator xgboost's best error=0.1191,\tbest estimator xgboost's best error=0.1191\n",
      "[flaml.automl.logger: 12-03 15:40:07] {2258} INFO - iteration 14, current learner xgboost\n",
      "[flaml.automl.logger: 12-03 15:40:08] {2442} INFO -  at 5.8s,\testimator xgboost's best error=0.1191,\tbest estimator xgboost's best error=0.1191\n",
      "[flaml.automl.logger: 12-03 15:40:08] {2258} INFO - iteration 15, current learner xgboost\n",
      "[flaml.automl.logger: 12-03 15:40:08] {2442} INFO -  at 6.1s,\testimator xgboost's best error=0.1191,\tbest estimator xgboost's best error=0.1191\n",
      "[flaml.automl.logger: 12-03 15:40:08] {2258} INFO - iteration 16, current learner xgboost\n",
      "[flaml.automl.logger: 12-03 15:40:09] {2442} INFO -  at 6.9s,\testimator xgboost's best error=0.1191,\tbest estimator xgboost's best error=0.1191\n",
      "[flaml.automl.logger: 12-03 15:40:09] {2258} INFO - iteration 17, current learner xgboost\n",
      "[flaml.automl.logger: 12-03 15:40:09] {2442} INFO -  at 7.1s,\testimator xgboost's best error=0.1191,\tbest estimator xgboost's best error=0.1191\n",
      "[flaml.automl.logger: 12-03 15:40:09] {2258} INFO - iteration 18, current learner xgboost\n",
      "[flaml.automl.logger: 12-03 15:40:10] {2442} INFO -  at 8.0s,\testimator xgboost's best error=0.1191,\tbest estimator xgboost's best error=0.1191\n",
      "[flaml.automl.logger: 12-03 15:40:10] {2258} INFO - iteration 19, current learner xgboost\n",
      "[flaml.automl.logger: 12-03 15:40:10] {2442} INFO -  at 8.6s,\testimator xgboost's best error=0.1191,\tbest estimator xgboost's best error=0.1191\n",
      "[flaml.automl.logger: 12-03 15:40:10] {2258} INFO - iteration 20, current learner xgboost\n",
      "[flaml.automl.logger: 12-03 15:40:13] {2442} INFO -  at 11.0s,\testimator xgboost's best error=0.1191,\tbest estimator xgboost's best error=0.1191\n",
      "[flaml.automl.logger: 12-03 15:40:13] {2258} INFO - iteration 21, current learner xgboost\n",
      "[flaml.automl.logger: 12-03 15:40:13] {2442} INFO -  at 11.6s,\testimator xgboost's best error=0.1191,\tbest estimator xgboost's best error=0.1191\n",
      "[flaml.automl.logger: 12-03 15:40:13] {2258} INFO - iteration 22, current learner xgboost\n",
      "[flaml.automl.logger: 12-03 15:40:14] {2442} INFO -  at 12.1s,\testimator xgboost's best error=0.1191,\tbest estimator xgboost's best error=0.1191\n",
      "[flaml.automl.logger: 12-03 15:40:14] {2258} INFO - iteration 23, current learner xgboost\n",
      "[flaml.automl.logger: 12-03 15:40:14] {2442} INFO -  at 12.5s,\testimator xgboost's best error=0.1191,\tbest estimator xgboost's best error=0.1191\n",
      "[flaml.automl.logger: 12-03 15:40:14] {2258} INFO - iteration 24, current learner xgboost\n",
      "[flaml.automl.logger: 12-03 15:40:15] {2442} INFO -  at 13.1s,\testimator xgboost's best error=0.1170,\tbest estimator xgboost's best error=0.1170\n",
      "[flaml.automl.logger: 12-03 15:40:15] {2258} INFO - iteration 25, current learner xgboost\n",
      "[flaml.automl.logger: 12-03 15:40:15] {2442} INFO -  at 13.4s,\testimator xgboost's best error=0.1170,\tbest estimator xgboost's best error=0.1170\n",
      "[flaml.automl.logger: 12-03 15:40:15] {2258} INFO - iteration 26, current learner xgboost\n",
      "[flaml.automl.logger: 12-03 15:40:17] {2442} INFO -  at 14.8s,\testimator xgboost's best error=0.1148,\tbest estimator xgboost's best error=0.1148\n",
      "[flaml.automl.logger: 12-03 15:40:17] {2258} INFO - iteration 27, current learner xgboost\n",
      "[flaml.automl.logger: 12-03 15:40:18] {2442} INFO -  at 15.8s,\testimator xgboost's best error=0.1148,\tbest estimator xgboost's best error=0.1148\n",
      "[flaml.automl.logger: 12-03 15:40:18] {2258} INFO - iteration 28, current learner xgboost\n",
      "[flaml.automl.logger: 12-03 15:40:19] {2442} INFO -  at 17.5s,\testimator xgboost's best error=0.1147,\tbest estimator xgboost's best error=0.1147\n",
      "[flaml.automl.logger: 12-03 15:40:19] {2258} INFO - iteration 29, current learner xgboost\n",
      "[flaml.automl.logger: 12-03 15:40:20] {2442} INFO -  at 18.3s,\testimator xgboost's best error=0.1147,\tbest estimator xgboost's best error=0.1147\n",
      "[flaml.automl.logger: 12-03 15:40:20] {2258} INFO - iteration 30, current learner xgboost\n",
      "[flaml.automl.logger: 12-03 15:40:22] {2442} INFO -  at 20.1s,\testimator xgboost's best error=0.1147,\tbest estimator xgboost's best error=0.1147\n",
      "[flaml.automl.logger: 12-03 15:40:22] {2685} INFO - retrain xgboost for 0.3s\n",
      "[flaml.automl.logger: 12-03 15:40:22] {2688} INFO - retrained model: XGBClassifier(base_score=None, booster=None, callbacks=[],\n",
      "              colsample_bylevel=1.0, colsample_bynode=None,\n",
      "              colsample_bytree=0.8815120875097398, early_stopping_rounds=None,\n",
      "              enable_categorical=False, eval_metric=None, feature_types=None,\n",
      "              gamma=None, gpu_id=None, grow_policy='lossguide',\n",
      "              importance_type=None, interaction_constraints=None,\n",
      "              learning_rate=0.23324639200898545, max_bin=None,\n",
      "              max_cat_threshold=None, max_cat_to_onehot=None,\n",
      "              max_delta_step=None, max_depth=0, max_leaves=9,\n",
      "              min_child_weight=1.540880210896099, missing=nan,\n",
      "              monotone_constraints=None, n_estimators=29, n_jobs=-1,\n",
      "              num_parallel_tree=None, objective='multi:softprob',\n",
      "              predictor=None, ...)\n",
      "[flaml.automl.logger: 12-03 15:40:22] {1985} INFO - fit succeeded\n",
      "[flaml.automl.logger: 12-03 15:40:22] {1986} INFO - Time taken to find the best model: 17.47875189781189\n",
      "The overall metric value is 0.9981308411214953\n",
      "You didn't specify metric_mode. For task classification using max as a default.\n",
      "Detecting issues for criteria n_slices=20, criterion=drop, min_drop=None, min_support=None.\n",
      "Identified 20 problematic slices.\n"
     ]
    },
    {
     "data": {
      "text/plain": [
       "(      age  gender    emotion  \\\n",
       " 0    31.0    male  happiness   \n",
       " 1    31.0    male    neutral   \n",
       " 2    31.0    male      anger   \n",
       " 3    31.0    male  happiness   \n",
       " 4    31.0    male    neutral   \n",
       " ..    ...     ...        ...   \n",
       " 530  31.0  female    boredom   \n",
       " 531  31.0  female    sadness   \n",
       " 532  31.0  female    sadness   \n",
       " 533  31.0  female      anger   \n",
       " 534  31.0  female      anger   \n",
       " \n",
       "                                                  audio  split  \\\n",
       " 0    ./sliceguard_tmp/15632b224c0349a18b50ca3d0d897...  train   \n",
       " 1    ./sliceguard_tmp/6f896216f1dc480b8cf43b284995c...  train   \n",
       " 2    ./sliceguard_tmp/2c174149ce664493a461bc34ac3c8...  train   \n",
       " 3    ./sliceguard_tmp/bdafbe22e6b54697acd6b1f359368...  train   \n",
       " 4    ./sliceguard_tmp/85dbaf08ba2d44f99464878814cdd...  train   \n",
       " ..                                                 ...    ...   \n",
       " 530  ./sliceguard_tmp/6f492e6d5f5c41fda76ef2851976f...  train   \n",
       " 531  ./sliceguard_tmp/e643ec7275774547bfb18a6173391...  train   \n",
       " 532  ./sliceguard_tmp/579ae503af8645c1a2e3a53cfe9f5...  train   \n",
       " 533  ./sliceguard_tmp/784bfe68a37447068e0e8a1df1de6...  train   \n",
       " 534  ./sliceguard_tmp/a1be2fedc6ff4f13a08f977079cfc...  train   \n",
       " \n",
       "                                   sg_projection  \\\n",
       " 0    [-2.0294401213994844, -0.3391738715933758]   \n",
       " 1     [-1.0702924189446137, 7.4056641416268425]   \n",
       " 2      [2.5674664781984418, 2.2377248151712656]   \n",
       " 3      [5.3572624363500845, 1.1521378501280453]   \n",
       " 4       [-0.750754500920068, 7.096280088213482]   \n",
       " ..                                          ...   \n",
       " 530  [-1.3721779516012003, -1.4279776990462407]   \n",
       " 531     [-5.63372379840968, -1.062996363729924]   \n",
       " 532  [-5.5848128063207545, -0.9744971284008144]   \n",
       " 533    [4.061443268791231, -0.5814650991061259]   \n",
       " 534     [5.244082619687096, 0.6732707482006365]   \n",
       " \n",
       "                                           sg_emb_audio  sg_y_pred  sg_p_anger  \\\n",
       " 0    [0.4560258090496063, 1.899998426437378, 0.7019...  happiness    0.007962   \n",
       " 1    [0.6625403165817261, 1.7858047485351562, -0.35...    neutral    0.001488   \n",
       " 2    [0.8264584541320801, 2.236449718475342, 0.3929...      anger    0.868615   \n",
       " 3    [0.777726948261261, 2.219804286956787, 0.66015...  happiness    0.227177   \n",
       " 4    [0.5157012939453125, 2.0795373916625977, -0.51...    neutral    0.005496   \n",
       " ..                                                 ...        ...         ...   \n",
       " 530  [-0.14991551637649536, 1.6234251260757446, 1.0...    boredom    0.001466   \n",
       " 531  [1.1023826599121094, 1.292173147201538, 0.4224...    sadness    0.000594   \n",
       " 532  [-0.20182263851165771, 0.9875073432922363, 1.7...    sadness    0.000834   \n",
       " 533  [0.3059256672859192, 2.2326340675354004, 0.567...      anger    0.714001   \n",
       " 534  [0.3193873465061188, 2.176912546157837, -0.336...      anger    0.752666   \n",
       " \n",
       "      sg_p_boredom  sg_p_disgust  sg_p_fear  sg_p_happiness  sg_p_neutral  \\\n",
       " 0        0.035805      0.012558   0.025091        0.865988      0.050028   \n",
       " 1        0.005607      0.001391   0.026104        0.003030      0.961283   \n",
       " 2        0.014062      0.008263   0.039800        0.064827      0.002351   \n",
       " 3        0.001516      0.005592   0.011138        0.751810      0.001446   \n",
       " 4        0.033168      0.007622   0.103925        0.055041      0.791008   \n",
       " ..            ...           ...        ...             ...           ...   \n",
       " 530      0.948396      0.030755   0.008170        0.008134      0.002228   \n",
       " 531      0.003513      0.002830   0.001019        0.000690      0.002690   \n",
       " 532      0.004919      0.003152   0.001429        0.000968      0.003003   \n",
       " 533      0.010888      0.005471   0.039096        0.225743      0.002539   \n",
       " 534      0.001801      0.002594   0.170834        0.069263      0.001502   \n",
       " \n",
       "      sg_p_sadness  \n",
       " 0        0.002569  \n",
       " 1        0.001097  \n",
       " 2        0.002083  \n",
       " 3        0.001321  \n",
       " 4        0.003740  \n",
       " ..            ...  \n",
       " 530      0.000851  \n",
       " 531      0.988662  \n",
       " 532      0.985694  \n",
       " 533      0.002263  \n",
       " 534      0.001339  \n",
       " \n",
       " [535 rows x 15 columns],\n",
       " [DataIssue(title='Metric: 0.50 | Cause: audio', rows=[255, 265], severity='medium', columns=['audio'], description='Feature Importances: audio, (1.00)'),\n",
       "  DataIssue(title='Metric: 0.90 | Cause: audio', rows=[11, 33, 36, 40, 176, 237, 238, 240, 255, 265], severity='medium', columns=['audio'], description='Feature Importances: audio, (1.00)'),\n",
       "  DataIssue(title='Metric: 0.98 | Cause: audio', rows=[1, 4, 11, 33, 35, 36, 40, 42, 45, 46, 135, 155, 156, 162, 163, 175, 176, 179, 182, 188, 189, 191, 193, 214, 220, 225, 229, 231, 232, 237, 238, 240, 243, 244, 245, 248, 249, 253, 254, 255, 259, 260, 263, 265, 266, 270, 272, 276, 279, 375, 426, 453], severity='medium', columns=['audio'], description='Feature Importances: audio, (1.00)'),\n",
       "  DataIssue(title='Metric: 0.99 | Cause: audio', rows=[1, 4, 5, 10, 11, 22, 23, 26, 27, 33, 35, 36, 39, 40, 42, 45, 46, 135, 155, 156, 162, 163, 168, 174, 175, 176, 177, 179, 182, 183, 186, 188, 189, 190, 191, 193, 195, 196, 201, 211, 214, 220, 222, 225, 229, 231, 232, 234, 237, 238, 240, 243, 244, 245, 248, 249, 253, 254, 255, 258, 259, 260, 263, 265, 266, 270, 272, 276, 279, 375, 410, 411, 415, 423, 426, 435, 436, 439, 447, 453, 455, 460, 461, 462], severity='medium', columns=['audio'], description='Feature Importances: audio, (1.00)'),\n",
       "  DataIssue(title='Metric: 1.00 | Cause: audio', rows=[121, 342, 364, 448, 488], severity='medium', columns=['audio'], description='Feature Importances: audio, (1.00)'),\n",
       "  DataIssue(title='Metric: 1.00 | Cause: audio', rows=[122, 320], severity='medium', columns=['audio'], description='Feature Importances: audio, (1.00)'),\n",
       "  DataIssue(title='Metric: 1.00 | Cause: audio', rows=[125, 130, 287], severity='medium', columns=['audio'], description='Feature Importances: audio, (1.00)'),\n",
       "  DataIssue(title='Metric: 1.00 | Cause: audio', rows=[126, 133, 159, 319, 336, 524], severity='medium', columns=['audio'], description='Feature Importances: audio, (1.00)'),\n",
       "  DataIssue(title='Metric: 1.00 | Cause: audio', rows=[127, 142, 316], severity='medium', columns=['audio'], description='Feature Importances: audio, (1.00)'),\n",
       "  DataIssue(title='Metric: 1.00 | Cause: audio', rows=[150, 153, 157, 166, 167], severity='medium', columns=['audio'], description='Feature Importances: audio, (1.00)'),\n",
       "  DataIssue(title='Metric: 1.00 | Cause: audio', rows=[131, 382], severity='medium', columns=['audio'], description='Feature Importances: audio, (1.00)'),\n",
       "  DataIssue(title='Metric: 1.00 | Cause: audio', rows=[132, 296, 314, 318, 378], severity='medium', columns=['audio'], description='Feature Importances: audio, (1.00)'),\n",
       "  DataIssue(title='Metric: 1.00 | Cause: audio', rows=[135, 162, 175, 225, 248, 253, 279], severity='medium', columns=['audio'], description='Feature Importances: audio, (1.00)'),\n",
       "  DataIssue(title='Metric: 1.00 | Cause: audio', rows=[141, 518], severity='medium', columns=['audio'], description='Feature Importances: audio, (1.00)'),\n",
       "  DataIssue(title='Metric: 1.00 | Cause: audio', rows=[143, 370, 372], severity='medium', columns=['audio'], description='Feature Importances: audio, (1.00)'),\n",
       "  DataIssue(title='Metric: 1.00 | Cause: audio', rows=[145, 379], severity='medium', columns=['audio'], description='Feature Importances: audio, (1.00)'),\n",
       "  DataIssue(title='Metric: 1.00 | Cause: audio', rows=[147, 345, 355, 402], severity='medium', columns=['audio'], description='Feature Importances: audio, (1.00)'),\n",
       "  DataIssue(title='Metric: 1.00 | Cause: audio', rows=[148, 313, 331], severity='medium', columns=['audio'], description='Feature Importances: audio, (1.00)'),\n",
       "  DataIssue(title='Metric: 1.00 | Cause: audio', rows=[119, 298], severity='medium', columns=['audio'], description='Feature Importances: audio, (1.00)'),\n",
       "  DataIssue(title='Metric: 1.00 | Cause: audio', rows=[129, 136, 380], severity='medium', columns=['audio'], description='Feature Importances: audio, (1.00)')],\n",
       " {'sg_projection': renumics.spotlight.media.embedding.Embedding,\n",
       "  'sg_emb_audio': renumics.spotlight.media.embedding.Embedding},\n",
       " Layout(children=[Split(children=[Tab(children=[Table(type='table', name=None, config=TableConfig(active_view='full', visible_columns=None, sort_by_columns=None, order_by_relevance=False), kind='widget')], weight=1, kind='tab'), Tab(children=[Similaritymap(type='similaritymap', name=None, config=SimilaritymapConfig(columns=['sg_projection'], reduction_method=None, color_by_column=None, size_by_column=None, filter=False, umap_nn=None, umap_metric=None, umap_min_dist=None, pca_normalization=None, umap_balance=None, umap_is_advanced=False), kind='widget')], weight=1, kind='tab'), Tab(children=[Histogram(type='histogram', name='Histogram', config=HistogramConfig(column=None, stack_by_column=None, filter=False), kind='widget')], weight=1, kind='tab')], orientation=None, weight=1, kind='split'), Split(children=[Tab(children=[Inspector(type='inspector', name='Inspector', config=InspectorConfig(lenses=[Lens(type='AudioView', columns=['audio'], name=None, settings={'repeat': False, 'autoplay': False}, id='7984e4a3-09aa-4ab3-9a78-16f0f340d5e7'), Lens(type='SpectrogramView', columns=['audio'], name=None, settings={'freqScale': 'linear', 'ampScale': 'decibel'}, id='c857f6fd-0739-4b16-ab6b-8f693e1aba20'), Lens(type='ScalarView', columns=['emotion'], name=None, settings=None, id='4765257f-df26-4775-82f6-d3cdaca9e744'), Lens(type='ScalarView', columns=['sg_y_pred'], name=None, settings=None, id='11f3dd63-269d-4981-bd6d-07cfa0a5a3f2')], num_columns=4), kind='widget')], weight=1, kind='tab'), Tab(children=[Issues(type='IssuesWidget', name=None, config=None, kind='widget')], weight=1, kind='tab')], orientation=None, weight=1, kind='split')], orientation=None))"
      ]
     },
     "execution_count": 6,
     "metadata": {},
     "output_type": "execute_result"
    }
   ],
   "source": [
    "sg = SliceGuard()\n",
    "sg.find_issues(df, features=[\"audio\"], y=\"emotion\", metric=accuracy_score)\n",
    "sg.report()"
   ]
  },
  {
   "cell_type": "code",
   "execution_count": null,
   "id": "cb190e94-6148-4c09-8426-02192e21ab40",
   "metadata": {},
   "outputs": [],
   "source": []
  }
 ],
 "metadata": {
  "kernelspec": {
   "display_name": ".conda",
   "language": "python",
   "name": "python3"
  },
  "language_info": {
   "codemirror_mode": {
    "name": "ipython",
    "version": 3
   },
   "file_extension": ".py",
   "mimetype": "text/x-python",
   "name": "python",
   "nbconvert_exporter": "python",
   "pygments_lexer": "ipython3",
   "version": "3.11.10"
  }
 },
 "nbformat": 4,
 "nbformat_minor": 5
}
